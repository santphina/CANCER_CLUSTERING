{
 "cells": [
  {
   "cell_type": "code",
   "execution_count": 1,
   "metadata": {},
   "outputs": [],
   "source": [
    "from __future__ import print_function\n",
    "import time\n",
    "import numpy as np\n",
    "import pandas as pd\n",
    "from sklearn.datasets import fetch_mldata\n",
    "from sklearn.decomposition import PCA\n",
    "from sklearn.manifold import TSNE\n",
    "%matplotlib inline\n",
    "import matplotlib.pyplot as plt\n",
    "from mpl_toolkits.mplot3d import Axes3D\n",
    "import seaborn as sns\n",
    "from matplotlib.colors import LogNorm\n",
    "import umap.umap_ as uma\n",
    "import math"
   ]
  },
  {
   "cell_type": "code",
   "execution_count": 47,
   "metadata": {},
   "outputs": [],
   "source": [
    "from Execute116 import *\n",
    "from plotting import *\n",
    "import math\n",
    "# from Convert import *"
   ]
  },
  {
   "cell_type": "code",
   "execution_count": 3,
   "metadata": {},
   "outputs": [],
   "source": [
    "sys.path.insert(0, r'C:\\Users\\viska\\Documents\\AceCan')\n",
    "os.chdir(r\"C:\\Users\\viska\\Documents\\AceCan\")\n",
    "Output_path = r\"C:\\Users\\viska\\Documents\\AceCan\\Prepros\"\n",
    "# os.mkdir(Output_path)\n",
    "load_data = 1\n",
    "num = 40\n",
    "base = 8\n",
    "topk = 2000\n",
    "col_range =  [8000]\n",
    "row_range = [5]\n",
    "display = 20\n",
    "pca_comp = 8\n",
    "d = base ** pca_comp  \n",
    "data_dir = r'.\\bki'    \n",
    "test =1\n",
    "name = os.path.join(Output_path, f'b{base}topk{topk}N{num}test{test}')\n",
    "idx_plot = 3\n",
    "# os.mkdir(name)\n",
    "if test:\n",
    "    pixel = 400*300\n",
    "else:\n",
    "    pixel = 1004 * 1344\n",
    "# os.mkdir(name)"
   ]
  },
  {
   "cell_type": "code",
   "execution_count": 61,
   "metadata": {},
   "outputs": [],
   "source": [
    "exact_pdh = pd.read_csv(f'{name}\\\\exact_pdh.cvs', names = list(range(8))+ ['freq','val','u1','u2','t1','t2','idx'], sep = ' ')\n",
    "freqs = exact_pdh['freq']\n",
    "vals = exact_pdh['val']\n"
   ]
  },
  {
   "cell_type": "code",
   "execution_count": 62,
   "metadata": {},
   "outputs": [
    {
     "data": {
      "text/html": "<div>\n<style scoped>\n    .dataframe tbody tr th:only-of-type {\n        vertical-align: middle;\n    }\n\n    .dataframe tbody tr th {\n        vertical-align: top;\n    }\n\n    .dataframe thead th {\n        text-align: right;\n    }\n</style>\n<table border=\"1\" class=\"dataframe\">\n  <thead>\n    <tr style=\"text-align: right;\">\n      <th></th>\n      <th>0</th>\n      <th>1</th>\n      <th>2</th>\n      <th>3</th>\n      <th>4</th>\n      <th>5</th>\n      <th>6</th>\n      <th>7</th>\n      <th>freq</th>\n      <th>val</th>\n      <th>u1</th>\n      <th>u2</th>\n      <th>t1</th>\n      <th>t2</th>\n      <th>idx</th>\n    </tr>\n  </thead>\n  <tbody>\n    <tr>\n      <td>0</td>\n      <td>0.0</td>\n      <td>5.0</td>\n      <td>4.0</td>\n      <td>4.0</td>\n      <td>4.0</td>\n      <td>3.0</td>\n      <td>3.0</td>\n      <td>4.0</td>\n      <td>49875.0</td>\n      <td>9292072.0</td>\n      <td>-1.898836</td>\n      <td>7.282517</td>\n      <td>-3.417665</td>\n      <td>2.826575</td>\n      <td>0.0</td>\n    </tr>\n    <tr>\n      <td>1</td>\n      <td>0.0</td>\n      <td>5.0</td>\n      <td>3.0</td>\n      <td>3.0</td>\n      <td>4.0</td>\n      <td>4.0</td>\n      <td>3.0</td>\n      <td>4.0</td>\n      <td>39918.0</td>\n      <td>9324264.0</td>\n      <td>-3.093164</td>\n      <td>6.554080</td>\n      <td>2.497411</td>\n      <td>4.317867</td>\n      <td>1.0</td>\n    </tr>\n    <tr>\n      <td>2</td>\n      <td>0.0</td>\n      <td>5.0</td>\n      <td>4.0</td>\n      <td>3.0</td>\n      <td>4.0</td>\n      <td>4.0</td>\n      <td>3.0</td>\n      <td>4.0</td>\n      <td>32220.0</td>\n      <td>9324328.0</td>\n      <td>-2.062715</td>\n      <td>7.365609</td>\n      <td>-3.223826</td>\n      <td>1.445663</td>\n      <td>2.0</td>\n    </tr>\n    <tr>\n      <td>3</td>\n      <td>0.0</td>\n      <td>4.0</td>\n      <td>3.0</td>\n      <td>3.0</td>\n      <td>4.0</td>\n      <td>4.0</td>\n      <td>3.0</td>\n      <td>4.0</td>\n      <td>28804.0</td>\n      <td>9324256.0</td>\n      <td>-2.021802</td>\n      <td>4.798568</td>\n      <td>2.855695</td>\n      <td>2.550706</td>\n      <td>3.0</td>\n    </tr>\n    <tr>\n      <td>4</td>\n      <td>0.0</td>\n      <td>4.0</td>\n      <td>3.0</td>\n      <td>4.0</td>\n      <td>3.0</td>\n      <td>3.0</td>\n      <td>3.0</td>\n      <td>4.0</td>\n      <td>28127.0</td>\n      <td>9287904.0</td>\n      <td>-1.692642</td>\n      <td>5.286952</td>\n      <td>2.383340</td>\n      <td>0.990132</td>\n      <td>4.0</td>\n    </tr>\n    <tr>\n      <td>...</td>\n      <td>...</td>\n      <td>...</td>\n      <td>...</td>\n      <td>...</td>\n      <td>...</td>\n      <td>...</td>\n      <td>...</td>\n      <td>...</td>\n      <td>...</td>\n      <td>...</td>\n      <td>...</td>\n      <td>...</td>\n      <td>...</td>\n      <td>...</td>\n      <td>...</td>\n    </tr>\n    <tr>\n      <td>599</td>\n      <td>0.0</td>\n      <td>5.0</td>\n      <td>2.0</td>\n      <td>2.0</td>\n      <td>3.0</td>\n      <td>3.0</td>\n      <td>3.0</td>\n      <td>4.0</td>\n      <td>519.0</td>\n      <td>9286824.0</td>\n      <td>-4.416726</td>\n      <td>5.469489</td>\n      <td>6.031096</td>\n      <td>5.045776</td>\n      <td>599.0</td>\n    </tr>\n    <tr>\n      <td>600</td>\n      <td>0.0</td>\n      <td>2.0</td>\n      <td>2.0</td>\n      <td>4.0</td>\n      <td>3.0</td>\n      <td>4.0</td>\n      <td>3.0</td>\n      <td>4.0</td>\n      <td>513.0</td>\n      <td>9320592.0</td>\n      <td>-1.052679</td>\n      <td>2.693677</td>\n      <td>-4.351082</td>\n      <td>-7.836273</td>\n      <td>600.0</td>\n    </tr>\n    <tr>\n      <td>601</td>\n      <td>0.0</td>\n      <td>4.0</td>\n      <td>5.0</td>\n      <td>3.0</td>\n      <td>4.0</td>\n      <td>4.0</td>\n      <td>3.0</td>\n      <td>3.0</td>\n      <td>508.0</td>\n      <td>7227232.0</td>\n      <td>-0.780493</td>\n      <td>7.013070</td>\n      <td>0.987039</td>\n      <td>-1.959625</td>\n      <td>601.0</td>\n    </tr>\n    <tr>\n      <td>602</td>\n      <td>0.0</td>\n      <td>3.0</td>\n      <td>3.0</td>\n      <td>4.0</td>\n      <td>2.0</td>\n      <td>3.0</td>\n      <td>3.0</td>\n      <td>4.0</td>\n      <td>505.0</td>\n      <td>9283800.0</td>\n      <td>-0.786497</td>\n      <td>4.835190</td>\n      <td>-7.313774</td>\n      <td>-3.955187</td>\n      <td>602.0</td>\n    </tr>\n    <tr>\n      <td>603</td>\n      <td>0.0</td>\n      <td>4.0</td>\n      <td>1.0</td>\n      <td>3.0</td>\n      <td>3.0</td>\n      <td>4.0</td>\n      <td>3.0</td>\n      <td>4.0</td>\n      <td>504.0</td>\n      <td>9320032.0</td>\n      <td>-3.558672</td>\n      <td>3.049288</td>\n      <td>2.249350</td>\n      <td>10.510571</td>\n      <td>603.0</td>\n    </tr>\n  </tbody>\n</table>\n<p>604 rows × 15 columns</p>\n</div>",
      "text/plain": "       0    1    2    3    4    5    6    7     freq        val        u1  \\\n0    0.0  5.0  4.0  4.0  4.0  3.0  3.0  4.0  49875.0  9292072.0 -1.898836   \n1    0.0  5.0  3.0  3.0  4.0  4.0  3.0  4.0  39918.0  9324264.0 -3.093164   \n2    0.0  5.0  4.0  3.0  4.0  4.0  3.0  4.0  32220.0  9324328.0 -2.062715   \n3    0.0  4.0  3.0  3.0  4.0  4.0  3.0  4.0  28804.0  9324256.0 -2.021802   \n4    0.0  4.0  3.0  4.0  3.0  3.0  3.0  4.0  28127.0  9287904.0 -1.692642   \n..   ...  ...  ...  ...  ...  ...  ...  ...      ...        ...       ...   \n599  0.0  5.0  2.0  2.0  3.0  3.0  3.0  4.0    519.0  9286824.0 -4.416726   \n600  0.0  2.0  2.0  4.0  3.0  4.0  3.0  4.0    513.0  9320592.0 -1.052679   \n601  0.0  4.0  5.0  3.0  4.0  4.0  3.0  3.0    508.0  7227232.0 -0.780493   \n602  0.0  3.0  3.0  4.0  2.0  3.0  3.0  4.0    505.0  9283800.0 -0.786497   \n603  0.0  4.0  1.0  3.0  3.0  4.0  3.0  4.0    504.0  9320032.0 -3.558672   \n\n           u2        t1         t2    idx  \n0    7.282517 -3.417665   2.826575    0.0  \n1    6.554080  2.497411   4.317867    1.0  \n2    7.365609 -3.223826   1.445663    2.0  \n3    4.798568  2.855695   2.550706    3.0  \n4    5.286952  2.383340   0.990132    4.0  \n..        ...       ...        ...    ...  \n599  5.469489  6.031096   5.045776  599.0  \n600  2.693677 -4.351082  -7.836273  600.0  \n601  7.013070  0.987039  -1.959625  601.0  \n602  4.835190 -7.313774  -3.955187  602.0  \n603  3.049288  2.249350  10.510571  603.0  \n\n[604 rows x 15 columns]"
     },
     "execution_count": 62,
     "metadata": {},
     "output_type": "execute_result"
    }
   ],
   "source": [
    "exact_pdh"
   ]
  },
  {
   "cell_type": "code",
   "execution_count": 48,
   "metadata": {},
   "outputs": [],
   "source": [
    "def check_cluster(diff, base):\n",
    "    #TODO: check if we need to limit decode\n",
    "    if diff == 0:\n",
    "        return True\n",
    "    else:\n",
    "        decode = math.log(abs(diff), base)\n",
    "        same_cluster_query = np.floor(decode) == decode           \n",
    "        return same_cluster_query"
   ]
  },
  {
   "cell_type": "code",
   "execution_count": 79,
   "metadata": {},
   "outputs": [],
   "source": [
    "def check_cluster(diff, base):\n",
    "    #TODO: check if we need to limit decode\n",
    "    if diff == 0:\n",
    "        return True\n",
    "    else:\n",
    "        decode = math.log(abs(diff), base)\n",
    "        same_cluster_query = np.floor(decode) == decode   \n",
    "        return same_cluster_query\n",
    "        \n",
    "def get_merged_HHs(vals, limit = 10):\n",
    "    val_l = len(vals)\n",
    "    clusters = np.zeros(val_l)\n",
    "    processed = [False] * val_l\n",
    "    cluster_dict= {}\n",
    "    color_idx = 1 \n",
    "    for idx_1 in range(val_l):\n",
    "        if not processed[idx_1]:\n",
    "            val = vals[idx_1]\n",
    "            cluster_dict[f'color_{color_idx}'] = [val]\n",
    "            clusters[idx_1] = color_idx\n",
    "            for idx_2 in range(idx_1+1, val_l): \n",
    "                val_2 = vals[idx_2]\n",
    "                diff = abs(val - val_2)\n",
    "                if check_cluster(diff,8):\n",
    "                    clusters[idx_2] = color_idx\n",
    "                    cluster_dict[f'color_{color_idx}'] += [val_2]\n",
    "                    processed[idx_2] = True\n",
    "            color_idx += 1  \n",
    "            processed[idx_1]  = True\n",
    "        if color_idx > limit:\n",
    "            print(f'Top {limit} color clusters after merger found, to continue increase limit' )\n",
    "            break\n",
    "    return clusters, cluster_dict"
   ]
  },
  {
   "cell_type": "code",
   "execution_count": 82,
   "metadata": {},
   "outputs": [
    {
     "name": "stdout",
     "output_type": "stream",
     "text": "Top 10 color clusters after merger found, to continue increase limit\n"
    },
    {
     "data": {
      "text/plain": "array([ 1.,  2.,  2.,  2.,  3.,  4.,  5.,  3.,  1.,  6.,  1.,  2.,  3.,\n        7.,  8.,  3.,  9.,  6.,  1.,  1., 10.,  0.,  4.,  6.,  0.,  1.,\n        7.,  0., 10.,  3.,  5.,  7.,  0.,  0., 10.,  0.,  5.,  0.,  0.,\n        4.,  6.,  6.,  4.,  0.,  0.,  0.,  5.,  0.,  0.,  0.,  0.,  7.,\n        0.,  0.,  0.,  2.,  0.,  0.,  4.,  0.,  8.,  0.,  1.,  0.,  8.,\n        0.,  0.,  0.,  4.,  0.,  0.,  4.,  0.,  0.,  0.,  0.,  0.,  0.,\n        0.,  0.,  0., 10.,  0.,  0.,  0.,  0.,  0.,  7.,  0.,  0.,  0.,\n        0.,  4.,  0.,  8.,  0.,  2.,  0.,  0.,  0.,  0.,  0.,  0.,  0.,\n        0., 10.,  0.,  0.,  3.,  0.,  0.,  0.,  0.,  0.,  0.,  0.,  0.,\n        0.,  0.,  0.,  0.,  0.,  0.,  0.,  0.,  6.,  9.,  0.,  0.,  0.,\n        0.,  0.,  0.,  0., 10.,  0.,  0.,  0.,  0.,  0.,  0.,  0.,  0.,\n       10.,  0.,  0.,  0.,  0.,  0.,  0.,  0.,  0.,  0.,  0.,  0.,  7.,\n        0.,  0.,  6.,  0.,  0.,  0.,  0., 10.,  0.,  9.,  0.,  0.,  0.,\n        0.,  0.,  0.,  0.,  0.,  0.,  0.,  0.,  0.,  0.,  0.,  0.,  0.,\n        0.,  1.,  0.,  0.,  7.,  0.,  0.,  0.,  0.,  0.,  0.,  0.,  0.,\n        0.,  0.,  0.,  5.,  0.,  0.,  0.,  0.,  0.,  0.,  0.,  0.,  0.,\n        0.,  0.,  9.,  0.,  0.,  0.,  0.,  0.,  0.,  0.,  8.,  0.,  0.,\n        0.,  0.,  0.,  0.,  0.,  0.,  0.,  0.,  0.,  0.,  0.,  0.,  0.,\n        0.,  0.,  0.,  0.,  0.,  0.,  0.,  0.,  0.,  0.,  0.,  0.,  0.,\n        0.,  0.,  0.,  0.,  0.,  0.,  2.,  0.,  0.,  0.,  0.,  0.,  0.,\n        0.,  0.,  0.,  0.,  0.,  0.,  0.,  0.,  0.,  0.,  0.,  0.,  0.,\n        0.,  0.,  0.,  0.,  0.,  0.,  0.,  0.,  0.,  0.,  0.,  0.,  0.,\n        0.,  0.,  0.,  0.,  0.,  0.,  0.,  0.,  0.,  0.,  0.,  0.,  0.,\n        0.,  0.,  0.,  0.,  0.,  0.,  0.,  0.,  0.,  0.,  0.,  0.,  0.,\n        0.,  0.,  0.,  0.,  0.,  0.,  0.,  0.,  0.,  0.,  0., 10.,  0.,\n        0.,  0.,  0.,  0.,  0.,  0.,  0.,  0.,  0.,  0.,  0.,  0.,  0.,\n        0.,  0.,  0.,  9.,  0.,  0.,  0.,  0.,  0.,  0.,  0.,  0.,  0.,\n        0.,  0.,  0.,  0.,  0.,  0.,  0.,  0.,  0.,  0.,  0.,  0.,  0.,\n        0.,  0.,  0.,  0.,  0.,  0.,  0.,  0.,  0.,  0.,  0.,  0.,  0.,\n        6.,  0.,  0.,  0.,  0.,  0.,  0.,  0.,  0.,  0.,  0.,  0.,  8.,\n        0.,  0.,  8.,  0.,  0.,  0.,  0.,  0.,  0.,  0.,  0.,  0.,  7.,\n        0.,  0.,  0.,  0.,  0.,  0.,  0.,  0.,  0.,  0.,  0.,  0.,  0.,\n        0.,  0.,  0.,  0.,  9.,  0.,  0.,  0.,  0.,  0.,  0.,  0.,  0.,\n        0.,  0.,  0.,  0.,  0.,  9.,  0.,  0.,  0.,  0.,  0.,  0.,  0.,\n        0.,  0.,  0.,  0.,  0.,  0.,  0.,  0.,  0.,  0.,  0.,  1.,  0.,\n        0.,  0.,  0.,  0.,  0.,  0.,  0.,  0.,  0.,  0.,  0.,  0.,  0.,\n        0.,  0.,  0.,  0.,  0.,  0.,  0.,  0.,  0.,  0.,  0.,  0.,  0.,\n        9.,  0.,  0.,  0.,  0.,  0.,  0.,  0.,  0.,  0.,  0.,  0.,  0.,\n        0.,  0.,  0.,  0.,  0.,  0.,  0.,  0.,  0.,  0.,  0.,  0.,  0.,\n        0.,  0.,  0.,  0.,  3.,  0.,  0.,  0.,  0.,  0.,  0.,  0.,  0.,\n        0.,  0.,  0.,  0.,  0.,  0.,  0.,  0.,  0.,  0.,  0.,  0.,  0.,\n        0.,  0.,  0.,  0.,  0.,  0.,  0.,  0.,  0.,  0.,  0.,  0.,  0.,\n        0.,  0.,  0.,  0.,  0.,  0.,  0.,  0.,  0.,  0.,  0.,  0.,  0.,\n        0.,  0.,  0.,  0.,  0.,  0.,  0.,  0.,  0.,  0.,  0.,  0.,  0.,\n        0.,  0.,  0.,  0.,  0.,  0.,  0.,  0.,  0.,  0.,  0.,  0.,  0.,\n        0.,  0.,  0.,  0.,  0.,  0.,  0.,  9.,  0.,  0.,  0.,  0.,  0.,\n        0.,  0.,  0.,  0.,  0.,  0.])"
     },
     "execution_count": 82,
     "metadata": {},
     "output_type": "execute_result"
    }
   ],
   "source": [
    "clusters, cluster_dict = get_merged_HHs(vals, limit = 10)\n",
    "clusters"
   ]
  },
  {
   "cell_type": "code",
   "execution_count": 83,
   "metadata": {},
   "outputs": [],
   "source": [
    "exact_pdh['cluster'] = clusters"
   ]
  },
  {
   "cell_type": "code",
   "execution_count": 84,
   "metadata": {},
   "outputs": [
    {
     "data": {
      "text/html": "<div>\n<style scoped>\n    .dataframe tbody tr th:only-of-type {\n        vertical-align: middle;\n    }\n\n    .dataframe tbody tr th {\n        vertical-align: top;\n    }\n\n    .dataframe thead th {\n        text-align: right;\n    }\n</style>\n<table border=\"1\" class=\"dataframe\">\n  <thead>\n    <tr style=\"text-align: right;\">\n      <th></th>\n      <th>0</th>\n      <th>1</th>\n      <th>2</th>\n      <th>3</th>\n      <th>4</th>\n      <th>5</th>\n      <th>6</th>\n      <th>7</th>\n      <th>freq</th>\n      <th>val</th>\n      <th>u1</th>\n      <th>u2</th>\n      <th>t1</th>\n      <th>t2</th>\n      <th>idx</th>\n      <th>cluster</th>\n    </tr>\n  </thead>\n  <tbody>\n    <tr>\n      <td>0</td>\n      <td>0.0</td>\n      <td>5.0</td>\n      <td>4.0</td>\n      <td>4.0</td>\n      <td>4.0</td>\n      <td>3.0</td>\n      <td>3.0</td>\n      <td>4.0</td>\n      <td>49875.0</td>\n      <td>9292072.0</td>\n      <td>-1.898836</td>\n      <td>7.282517</td>\n      <td>-3.417665</td>\n      <td>2.826575</td>\n      <td>0.0</td>\n      <td>1.0</td>\n    </tr>\n    <tr>\n      <td>1</td>\n      <td>0.0</td>\n      <td>5.0</td>\n      <td>3.0</td>\n      <td>3.0</td>\n      <td>4.0</td>\n      <td>4.0</td>\n      <td>3.0</td>\n      <td>4.0</td>\n      <td>39918.0</td>\n      <td>9324264.0</td>\n      <td>-3.093164</td>\n      <td>6.554080</td>\n      <td>2.497411</td>\n      <td>4.317867</td>\n      <td>1.0</td>\n      <td>2.0</td>\n    </tr>\n    <tr>\n      <td>2</td>\n      <td>0.0</td>\n      <td>5.0</td>\n      <td>4.0</td>\n      <td>3.0</td>\n      <td>4.0</td>\n      <td>4.0</td>\n      <td>3.0</td>\n      <td>4.0</td>\n      <td>32220.0</td>\n      <td>9324328.0</td>\n      <td>-2.062715</td>\n      <td>7.365609</td>\n      <td>-3.223826</td>\n      <td>1.445663</td>\n      <td>2.0</td>\n      <td>2.0</td>\n    </tr>\n    <tr>\n      <td>3</td>\n      <td>0.0</td>\n      <td>4.0</td>\n      <td>3.0</td>\n      <td>3.0</td>\n      <td>4.0</td>\n      <td>4.0</td>\n      <td>3.0</td>\n      <td>4.0</td>\n      <td>28804.0</td>\n      <td>9324256.0</td>\n      <td>-2.021802</td>\n      <td>4.798568</td>\n      <td>2.855695</td>\n      <td>2.550706</td>\n      <td>3.0</td>\n      <td>2.0</td>\n    </tr>\n    <tr>\n      <td>4</td>\n      <td>0.0</td>\n      <td>4.0</td>\n      <td>3.0</td>\n      <td>4.0</td>\n      <td>3.0</td>\n      <td>3.0</td>\n      <td>3.0</td>\n      <td>4.0</td>\n      <td>28127.0</td>\n      <td>9287904.0</td>\n      <td>-1.692642</td>\n      <td>5.286952</td>\n      <td>2.383340</td>\n      <td>0.990132</td>\n      <td>4.0</td>\n      <td>3.0</td>\n    </tr>\n    <tr>\n      <td>...</td>\n      <td>...</td>\n      <td>...</td>\n      <td>...</td>\n      <td>...</td>\n      <td>...</td>\n      <td>...</td>\n      <td>...</td>\n      <td>...</td>\n      <td>...</td>\n      <td>...</td>\n      <td>...</td>\n      <td>...</td>\n      <td>...</td>\n      <td>...</td>\n      <td>...</td>\n      <td>...</td>\n    </tr>\n    <tr>\n      <td>599</td>\n      <td>0.0</td>\n      <td>5.0</td>\n      <td>2.0</td>\n      <td>2.0</td>\n      <td>3.0</td>\n      <td>3.0</td>\n      <td>3.0</td>\n      <td>4.0</td>\n      <td>519.0</td>\n      <td>9286824.0</td>\n      <td>-4.416726</td>\n      <td>5.469489</td>\n      <td>6.031096</td>\n      <td>5.045776</td>\n      <td>599.0</td>\n      <td>0.0</td>\n    </tr>\n    <tr>\n      <td>600</td>\n      <td>0.0</td>\n      <td>2.0</td>\n      <td>2.0</td>\n      <td>4.0</td>\n      <td>3.0</td>\n      <td>4.0</td>\n      <td>3.0</td>\n      <td>4.0</td>\n      <td>513.0</td>\n      <td>9320592.0</td>\n      <td>-1.052679</td>\n      <td>2.693677</td>\n      <td>-4.351082</td>\n      <td>-7.836273</td>\n      <td>600.0</td>\n      <td>0.0</td>\n    </tr>\n    <tr>\n      <td>601</td>\n      <td>0.0</td>\n      <td>4.0</td>\n      <td>5.0</td>\n      <td>3.0</td>\n      <td>4.0</td>\n      <td>4.0</td>\n      <td>3.0</td>\n      <td>3.0</td>\n      <td>508.0</td>\n      <td>7227232.0</td>\n      <td>-0.780493</td>\n      <td>7.013070</td>\n      <td>0.987039</td>\n      <td>-1.959625</td>\n      <td>601.0</td>\n      <td>0.0</td>\n    </tr>\n    <tr>\n      <td>602</td>\n      <td>0.0</td>\n      <td>3.0</td>\n      <td>3.0</td>\n      <td>4.0</td>\n      <td>2.0</td>\n      <td>3.0</td>\n      <td>3.0</td>\n      <td>4.0</td>\n      <td>505.0</td>\n      <td>9283800.0</td>\n      <td>-0.786497</td>\n      <td>4.835190</td>\n      <td>-7.313774</td>\n      <td>-3.955187</td>\n      <td>602.0</td>\n      <td>0.0</td>\n    </tr>\n    <tr>\n      <td>603</td>\n      <td>0.0</td>\n      <td>4.0</td>\n      <td>1.0</td>\n      <td>3.0</td>\n      <td>3.0</td>\n      <td>4.0</td>\n      <td>3.0</td>\n      <td>4.0</td>\n      <td>504.0</td>\n      <td>9320032.0</td>\n      <td>-3.558672</td>\n      <td>3.049288</td>\n      <td>2.249350</td>\n      <td>10.510571</td>\n      <td>603.0</td>\n      <td>0.0</td>\n    </tr>\n  </tbody>\n</table>\n<p>604 rows × 16 columns</p>\n</div>",
      "text/plain": "       0    1    2    3    4    5    6    7     freq        val        u1  \\\n0    0.0  5.0  4.0  4.0  4.0  3.0  3.0  4.0  49875.0  9292072.0 -1.898836   \n1    0.0  5.0  3.0  3.0  4.0  4.0  3.0  4.0  39918.0  9324264.0 -3.093164   \n2    0.0  5.0  4.0  3.0  4.0  4.0  3.0  4.0  32220.0  9324328.0 -2.062715   \n3    0.0  4.0  3.0  3.0  4.0  4.0  3.0  4.0  28804.0  9324256.0 -2.021802   \n4    0.0  4.0  3.0  4.0  3.0  3.0  3.0  4.0  28127.0  9287904.0 -1.692642   \n..   ...  ...  ...  ...  ...  ...  ...  ...      ...        ...       ...   \n599  0.0  5.0  2.0  2.0  3.0  3.0  3.0  4.0    519.0  9286824.0 -4.416726   \n600  0.0  2.0  2.0  4.0  3.0  4.0  3.0  4.0    513.0  9320592.0 -1.052679   \n601  0.0  4.0  5.0  3.0  4.0  4.0  3.0  3.0    508.0  7227232.0 -0.780493   \n602  0.0  3.0  3.0  4.0  2.0  3.0  3.0  4.0    505.0  9283800.0 -0.786497   \n603  0.0  4.0  1.0  3.0  3.0  4.0  3.0  4.0    504.0  9320032.0 -3.558672   \n\n           u2        t1         t2    idx  cluster  \n0    7.282517 -3.417665   2.826575    0.0      1.0  \n1    6.554080  2.497411   4.317867    1.0      2.0  \n2    7.365609 -3.223826   1.445663    2.0      2.0  \n3    4.798568  2.855695   2.550706    3.0      2.0  \n4    5.286952  2.383340   0.990132    4.0      3.0  \n..        ...       ...        ...    ...      ...  \n599  5.469489  6.031096   5.045776  599.0      0.0  \n600  2.693677 -4.351082  -7.836273  600.0      0.0  \n601  7.013070  0.987039  -1.959625  601.0      0.0  \n602  4.835190 -7.313774  -3.955187  602.0      0.0  \n603  3.049288  2.249350  10.510571  603.0      0.0  \n\n[604 rows x 16 columns]"
     },
     "execution_count": 84,
     "metadata": {},
     "output_type": "execute_result"
    }
   ],
   "source": [
    "exact_pdh\n"
   ]
  },
  {
   "cell_type": "code",
   "execution_count": 49,
   "metadata": {},
   "outputs": [],
   "source": [
    "def run_step_merge(top_color, freq, base, limit):\n",
    "    k = len(top_color)\n",
    "    assert (k == len(freq))  \n",
    "    processed = [False] * k\n",
    "    color_dict_sketch = {}\n",
    "    color_idx = 1 \n",
    "    for i in range(k-1):\n",
    "        if not processed[i]:\n",
    "            color_i = top_color[i]\n",
    "            color_dict_sketch[f'color_{color_idx}'] = [color_i]\n",
    "            for j in range(i+1,k):\n",
    "                color_j = top_color[j]\n",
    "                diff  = color_i - color_j\n",
    "                if check_cluster(diff, base):\n",
    "                    processed[j] = True\n",
    "                    top_color[j] = color_i\n",
    "                    color_dict_sketch[f'color_{color_idx}'] += [color_j]\n",
    "            #plt.matshow(np.reshape(color_map, [400,300]))\n",
    "            color_idx+=1\n",
    "            if color_idx > limit:\n",
    "                print(f'Top {limit} color clustering after merger found, to continue increase merge_topk value' )\n",
    "                break\n",
    "    print(color_dict_sketch['color_1'])\n",
    "    return color_dict_sketch, top_color"
   ]
  },
  {
   "cell_type": "code",
   "execution_count": 109,
   "metadata": {},
   "outputs": [
    {
     "name": "stdout",
     "output_type": "stream",
     "text": [
      "[112344.0, 112344.0, 112344.0, 112344.0, 112344.0, 112344.0, 112344.0, 112344.0, 112344.0, 112344.0, 112344.0]\n"
     ]
    }
   ],
   "source": [
    "color_dict_sketch, top_color = run_step_merge(exact_val[:1000], exact_freq[:1000], base, limit = 1000)"
   ]
  },
  {
   "cell_type": "code",
   "execution_count": 111,
   "metadata": {},
   "outputs": [],
   "source": [
    "exact_hhpd = pd.DataFrame(exact_hhs[:1000], columns = ['val', 'freq'])\n",
    "exact_hhpd['cluster'] = 0\n",
    "exact_hhpd['top_color'] = top_color"
   ]
  },
  {
   "cell_type": "code",
   "execution_count": 65,
   "metadata": {},
   "outputs": [],
   "source": [
    "exact_hhpd.loc[exact_hhpd['val'] == 112344, ['cluster'] ]= 11"
   ]
  },
  {
   "cell_type": "code",
   "execution_count": 107,
   "metadata": {},
   "outputs": [],
   "source": [
    "exact_hhpd1 = exact_hhpd.loc[exact_hhpd['freq'] > 500]"
   ]
  },
  {
   "cell_type": "code",
   "execution_count": 121,
   "metadata": {},
   "outputs": [
    {
     "data": {
      "text/html": [
       "<div>\n",
       "<style scoped>\n",
       "    .dataframe tbody tr th:only-of-type {\n",
       "        vertical-align: middle;\n",
       "    }\n",
       "\n",
       "    .dataframe tbody tr th {\n",
       "        vertical-align: top;\n",
       "    }\n",
       "\n",
       "    .dataframe thead th {\n",
       "        text-align: right;\n",
       "    }\n",
       "</style>\n",
       "<table border=\"1\" class=\"dataframe\">\n",
       "  <thead>\n",
       "    <tr style=\"text-align: right;\">\n",
       "      <th></th>\n",
       "      <th>val</th>\n",
       "      <th>freq</th>\n",
       "      <th>cluster</th>\n",
       "      <th>top_color</th>\n",
       "    </tr>\n",
       "  </thead>\n",
       "  <tbody>\n",
       "    <tr>\n",
       "      <td>0</td>\n",
       "      <td>112344.0</td>\n",
       "      <td>547716</td>\n",
       "      <td>1</td>\n",
       "      <td>112344.0</td>\n",
       "    </tr>\n",
       "    <tr>\n",
       "      <td>1</td>\n",
       "      <td>112336.0</td>\n",
       "      <td>212410</td>\n",
       "      <td>0</td>\n",
       "      <td>112344.0</td>\n",
       "    </tr>\n",
       "    <tr>\n",
       "      <td>2</td>\n",
       "      <td>112334.0</td>\n",
       "      <td>29164</td>\n",
       "      <td>2</td>\n",
       "      <td>112334.0</td>\n",
       "    </tr>\n",
       "    <tr>\n",
       "      <td>3</td>\n",
       "      <td>112280.0</td>\n",
       "      <td>17425</td>\n",
       "      <td>0</td>\n",
       "      <td>112344.0</td>\n",
       "    </tr>\n",
       "    <tr>\n",
       "      <td>4</td>\n",
       "      <td>112342.0</td>\n",
       "      <td>16732</td>\n",
       "      <td>0</td>\n",
       "      <td>112334.0</td>\n",
       "    </tr>\n",
       "    <tr>\n",
       "      <td>...</td>\n",
       "      <td>...</td>\n",
       "      <td>...</td>\n",
       "      <td>...</td>\n",
       "      <td>...</td>\n",
       "    </tr>\n",
       "    <tr>\n",
       "      <td>995</td>\n",
       "      <td>144628.0</td>\n",
       "      <td>68</td>\n",
       "      <td>0</td>\n",
       "      <td>144628.0</td>\n",
       "    </tr>\n",
       "    <tr>\n",
       "      <td>996</td>\n",
       "      <td>112770.0</td>\n",
       "      <td>68</td>\n",
       "      <td>0</td>\n",
       "      <td>112258.0</td>\n",
       "    </tr>\n",
       "    <tr>\n",
       "      <td>997</td>\n",
       "      <td>117041.0</td>\n",
       "      <td>68</td>\n",
       "      <td>0</td>\n",
       "      <td>117033.0</td>\n",
       "    </tr>\n",
       "    <tr>\n",
       "      <td>998</td>\n",
       "      <td>107750.0</td>\n",
       "      <td>68</td>\n",
       "      <td>0</td>\n",
       "      <td>111846.0</td>\n",
       "    </tr>\n",
       "    <tr>\n",
       "      <td>999</td>\n",
       "      <td>108341.0</td>\n",
       "      <td>68</td>\n",
       "      <td>0</td>\n",
       "      <td>112437.0</td>\n",
       "    </tr>\n",
       "  </tbody>\n",
       "</table>\n",
       "<p>1000 rows × 4 columns</p>\n",
       "</div>"
      ],
      "text/plain": [
       "          val    freq  cluster  top_color\n",
       "0    112344.0  547716        1   112344.0\n",
       "1    112336.0  212410        0   112344.0\n",
       "2    112334.0   29164        2   112334.0\n",
       "3    112280.0   17425        0   112344.0\n",
       "4    112342.0   16732        0   112334.0\n",
       "..        ...     ...      ...        ...\n",
       "995  144628.0      68        0   144628.0\n",
       "996  112770.0      68        0   112258.0\n",
       "997  117041.0      68        0   117033.0\n",
       "998  107750.0      68        0   111846.0\n",
       "999  108341.0      68        0   112437.0\n",
       "\n",
       "[1000 rows x 4 columns]"
      ]
     },
     "execution_count": 121,
     "metadata": {},
     "output_type": "execute_result"
    }
   ],
   "source": [
    "exact_hhpd"
   ]
  },
  {
   "cell_type": "code",
   "execution_count": 124,
   "metadata": {},
   "outputs": [],
   "source": [
    "for i in range(1, 394):\n",
    "    for val in color_dict_sketch[f'color_{i}']:\n",
    "        exact_hhpd.loc[exact_hhpd['top_color'] == val, ['cluster'] ]= i\n",
    "        "
   ]
  },
  {
   "cell_type": "code",
   "execution_count": 141,
   "metadata": {},
   "outputs": [
    {
     "data": {
      "text/plain": [
       "'C:\\\\Users\\\\viska\\\\Documents\\\\AceCan'"
      ]
     },
     "execution_count": 141,
     "metadata": {},
     "output_type": "execute_result"
    }
   ],
   "source": [
    "import os\n",
    "os.getcwd()"
   ]
  },
  {
   "cell_type": "code",
   "execution_count": 142,
   "metadata": {},
   "outputs": [],
   "source": [
    "stream = np.loadtxt(r'.\\\\results/b8topk1000N1exact_test/stream_concat.csv')"
   ]
  },
  {
   "cell_type": "code",
   "execution_count": 145,
   "metadata": {},
   "outputs": [],
   "source": [
    "stream_pca = inverse_mapcode( stream, base, n_comp)"
   ]
  },
  {
   "cell_type": "code",
   "execution_count": 147,
   "metadata": {},
   "outputs": [],
   "source": [
    "stream_pd = pd.DataFrame(stream_pca.T, columns = range(6))"
   ]
  },
  {
   "cell_type": "code",
   "execution_count": 148,
   "metadata": {},
   "outputs": [],
   "source": [
    "stream_pd['org'] = stream"
   ]
  },
  {
   "cell_type": "code",
   "execution_count": 150,
   "metadata": {},
   "outputs": [],
   "source": [
    "np.savetxt('streampd.csv', stream_pd)"
   ]
  },
  {
   "cell_type": "code",
   "execution_count": 117,
   "metadata": {},
   "outputs": [],
   "source": [
    "exact1000 = inverse_mapcode(exact_val[:1000], base, n_comp)"
   ]
  },
  {
   "cell_type": "code",
   "execution_count": 119,
   "metadata": {},
   "outputs": [
    {
     "data": {
      "text/plain": [
       "(6, 1000)"
      ]
     },
     "execution_count": 119,
     "metadata": {},
     "output_type": "execute_result"
    }
   ],
   "source": [
    "np.shape(exact1000)"
   ]
  }
 ],
 "metadata": {
  "kernelspec": {
   "display_name": "Python 3.7.4 64-bit ('streaming': conda)",
   "language": "python",
   "name": "python37464bitstreamingconda304b641f19f1418296ed3833f3209239"
  },
  "language_info": {
   "codemirror_mode": {
    "name": "ipython",
    "version": 3
   },
   "file_extension": ".py",
   "mimetype": "text/x-python",
   "name": "python",
   "nbconvert_exporter": "python",
   "pygments_lexer": "ipython3",
   "version": "3.7.4-final"
  }
 },
 "nbformat": 4,
 "nbformat_minor": 4
}